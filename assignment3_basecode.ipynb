{
 "cells": [
  {
   "cell_type": "code",
   "execution_count": 4,
   "metadata": {},
   "outputs": [],
   "source": [
    "import requests\n",
    "import pandas as pd\n",
    "from datetime import datetime, timedelta\n",
    "import yfinance as yf"
   ]
  },
  {
   "cell_type": "code",
   "execution_count": 5,
   "metadata": {},
   "outputs": [],
   "source": [
    "def get_news_gnews(query, from_date, to_date, api_key):\n",
    "    \"\"\"Fetch news from GNews API between given dates.\"\"\"\n",
    "    url = f\"https://gnews.io/api/v4/search?q={query}&from={from_date}&to={to_date}&token={api_key}\"\n",
    "    headers = {\"User-Agent\": \"Mozilla/5.0\"}\n",
    "\n",
    "    response = requests.get(url, headers=headers)\n",
    "    news_df = pd.DataFrame()  # Default empty DataFrame\n",
    "\n",
    "    if response.status_code == 200:\n",
    "        articles = response.json().get(\"articles\", [])\n",
    "        news_df = pd.DataFrame(\n",
    "            [(article['publishedAt'][:10], article['title'], article['url']) for article in articles],\n",
    "            columns=['Date', 'Title', 'URL']\n",
    "        )\n",
    "\n",
    "    return news_df"
   ]
  },
  {
   "cell_type": "code",
   "execution_count": 6,
   "metadata": {},
   "outputs": [],
   "source": [
    "def get_stock_data(ticker, start_date, end_date):\n",
    "    \"\"\"Fetch historical stock data from Yahoo Finance.\"\"\"\n",
    "    stock_df = yf.download(ticker, start=start_date, end=end_date)\n",
    "    stock_df = stock_df[['Close']].reset_index()\n",
    "    stock_df['Date'] = stock_df['Date'].dt.strftime('%Y-%m-%d')  # Format date\n",
    "    return stock_df"
   ]
  },
  {
   "cell_type": "code",
   "execution_count": null,
   "metadata": {},
   "outputs": [
    {
     "name": "stdout",
     "output_type": "stream",
     "text": [
      "YF.download() has changed argument auto_adjust default to True\n"
     ]
    },
    {
     "name": "stderr",
     "output_type": "stream",
     "text": [
      "[*********************100%***********************]  1 of 1 completed"
     ]
    },
    {
     "name": "stdout",
     "output_type": "stream",
     "text": [
      "         Date                                              Title  \\\n",
      "0  2025-03-26  Trump gibt persönliche Einblicke über sein Ver...   \n",
      "1  2025-03-26  Trump gibt persönliche Einblicke über sein Ver...   \n",
      "2  2025-03-26  Trump gibt persönliche Einblicke über sein Ver...   \n",
      "3  2025-03-26  Em fuga de blitz, motorista de Tesla fura sina...   \n",
      "4  2025-03-26  Wall St dégringole sur fond d'inquiétudes conc...   \n",
      "\n",
      "                                                 URL  \n",
      "0  https://www.fr.de/politik/trump-gibt-persoenli...  \n",
      "1  https://www.merkur.de/politik/trump-gibt-perso...  \n",
      "2  https://www.tz.de/politik/trump-gibt-persoenli...  \n",
      "3  https://noticias.uol.com.br/internacional/ulti...  \n",
      "4  https://www.zonebourse.com/cours/indice/S-P-50...  \n",
      "***************************************\n",
      "Price         Date       Close\n",
      "Ticker                    TSLA\n",
      "0       2025-02-25  302.799988\n",
      "1       2025-02-26  290.799988\n",
      "2       2025-02-27  281.950012\n",
      "3       2025-02-28  292.980011\n",
      "4       2025-03-03  284.649994\n"
     ]
    },
    {
     "name": "stderr",
     "output_type": "stream",
     "text": [
      "\n"
     ]
    }
   ],
   "source": [
    "# API key for news retrieval\n",
    "import os\n",
    "GNEWS_API_KEY = os.getenv(\"GNEWS_API_KEY\")\n",
    "\n",
    "# Define date range (last 30 days)\n",
    "today_str, start_date_str = datetime.today().strftime('%Y-%m-%d'), (datetime.today() - timedelta(days=30)).strftime('%Y-%m-%d')\n",
    "\n",
    "# Fetch news and stock data\n",
    "SEARCH_QUERY = \"Tesla\"\n",
    "STOCK_TICKER = \"TSLA\"\n",
    "\n",
    "news_df = get_news_gnews(SEARCH_QUERY, start_date_str, today_str, GNEWS_API_KEY)\n",
    "stock_df = get_stock_data(STOCK_TICKER, start_date_str, today_str)\n",
    "\n",
    "# Ensure 'Date' column is formatted correctly\n",
    "news_df[\"Date\"] = pd.to_datetime(news_df[\"Date\"], errors='coerce').dt.strftime('%Y-%m-%d')\n",
    "\n",
    "print(news_df.head())\n",
    "print(\"***************************************\")\n"
   ]
  },
  {
   "cell_type": "code",
   "execution_count": 10,
   "metadata": {},
   "outputs": [
    {
     "name": "stderr",
     "output_type": "stream",
     "text": [
      "[*********************100%***********************]  1 of 1 completed"
     ]
    },
    {
     "name": "stdout",
     "output_type": "stream",
     "text": [
      "Price         Date       Close\n",
      "Ticker                    TSLA\n",
      "4       2025-03-13  240.679993\n",
      "5       2025-03-14  249.979996\n",
      "6       2025-03-17  238.009995\n",
      "7       2025-03-18  225.309998\n",
      "8       2025-03-19  235.860001\n",
      "9       2025-03-20  236.259995\n",
      "10      2025-03-21  248.710007\n",
      "11      2025-03-24  278.390015\n",
      "12      2025-03-25  288.140015\n",
      "13      2025-03-26  272.059998\n"
     ]
    },
    {
     "name": "stderr",
     "output_type": "stream",
     "text": [
      "\n"
     ]
    }
   ],
   "source": [
    "import yfinance as yf\n",
    "import pandas as pd\n",
    "from datetime import datetime, timedelta\n",
    "\n",
    "def get_latest_stock_data(ticker, days=10):\n",
    "    \"\"\"Fetch the latest N trading days of stock data from Yahoo Finance.\"\"\"\n",
    "    end_date = datetime.today().strftime('%Y-%m-%d')  # Today\n",
    "    start_date = (datetime.today() - timedelta(days=days*2)).strftime('%Y-%m-%d')  # Buffer for non-trading days\n",
    "\n",
    "    stock_df = yf.download(ticker, start=start_date, end=end_date)\n",
    "    stock_df = stock_df[['Close']].reset_index()\n",
    "    stock_df['Date'] = stock_df['Date'].dt.strftime('%Y-%m-%d')  # Format date\n",
    "    \n",
    "    # Get the last 10 available trading days\n",
    "    return stock_df.tail(10)  \n",
    "\n",
    "# Fetch latest 10 trading days for Tesla\n",
    "STOCK_TICKER = \"TSLA\"\n",
    "latest_prices = get_latest_stock_data(STOCK_TICKER, days=10)\n",
    "\n",
    "print(latest_prices)\n"
   ]
  }
 ],
 "metadata": {
  "kernelspec": {
   "display_name": "EAG1-Agent",
   "language": "python",
   "name": "python3"
  },
  "language_info": {
   "codemirror_mode": {
    "name": "ipython",
    "version": 3
   },
   "file_extension": ".py",
   "mimetype": "text/x-python",
   "name": "python",
   "nbconvert_exporter": "python",
   "pygments_lexer": "ipython3",
   "version": "3.12.9"
  }
 },
 "nbformat": 4,
 "nbformat_minor": 2
}
